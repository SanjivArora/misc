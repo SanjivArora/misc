{
 "cells": [
  {
   "cell_type": "code",
   "execution_count": 1,
   "metadata": {},
   "outputs": [],
   "source": [
    "## customer heirachy to classify the umbrella customers and the sum customers\n",
    "\n",
    "\n"
   ]
  },
  {
   "cell_type": "code",
   "execution_count": 1,
   "metadata": {},
   "outputs": [],
   "source": [
    "#import Pkg; Pkg.add(\"AbstractTrees\")\n",
    "using AbstractTrees"
   ]
  },
  {
   "cell_type": "code",
   "execution_count": 2,
   "metadata": {},
   "outputs": [
    {
     "name": "stderr",
     "output_type": "stream",
     "text": [
      "┌ Info: 01000: [Microsoft][ODBC SQL Server Driver][SQL Server]Changed database context to 'master'.01000: [Microsoft][ODBC SQL Server Driver][SQL Server]Changed language setting to us_english.\n",
      "└ @ ODBC.API C:\\Users\\Ajefferi\\.julia\\packages\\ODBC\\2MEHX\\src\\API.jl:112\n"
     ]
    },
    {
     "data": {
      "text/plain": [
       "ODBC.Connection(ricohnz-db2)"
      ]
     },
     "execution_count": 2,
     "metadata": {},
     "output_type": "execute_result"
    }
   ],
   "source": [
    "##obtain the roots \n",
    "\n",
    "using ODBC\n",
    "conn = ODBC.Connection(\"ricohnz-db2\",\"Ajefferi\",\"Ca\\$h1998\")"
   ]
  },
  {
   "cell_type": "code",
   "execution_count": 3,
   "metadata": {},
   "outputs": [
    {
     "data": {
      "text/plain": [
       "\"\\nSELECT Account,Customer,Parent_Account,Parent_Customer\\n  FROM [Ricoh_SAS].[pbi].[Customer_Master] cm \\n\\n\\n  \\n\""
      ]
     },
     "execution_count": 3,
     "metadata": {},
     "output_type": "execute_result"
    }
   ],
   "source": [
    "query = \"\"\"\n",
    "\n",
    "SELECT Account,Customer,Parent_Account,Parent_Customer\n",
    "  FROM [Ricoh_SAS].[pbi].[Customer_Master] cm \n",
    "\n",
    "\n",
    "  \n",
    "\"\"\""
   ]
  },
  {
   "cell_type": "code",
   "execution_count": 4,
   "metadata": {},
   "outputs": [
    {
     "data": {
      "text/html": [
       "<table class=\"data-frame\"><thead><tr><th></th><th>Account</th><th>Customer</th><th>Parent_Account</th><th>Parent_Customer</th></tr><tr><th></th><th>String</th><th>String?</th><th>String?</th><th>String?</th></tr></thead><tbody><p>31,314 rows × 4 columns</p><tr><th>1</th><td>10050</td><td>NORMAN DISNEY &amp; YOUNG</td><td>10050</td><td>NORMAN DISNEY &amp; YOUNG</td></tr><tr><th>2</th><td>10051</td><td>NORWEST ADVERTISING LTD</td><td>10051</td><td>NORWEST ADVERTISING LTD</td></tr><tr><th>3</th><td>10055</td><td>JOANNE ANDERSON</td><td>10055</td><td>JOANNE ANDERSON</td></tr><tr><th>4</th><td>10062</td><td>BUDGET ****USE 19823*********</td><td>10062</td><td>BUDGET ****USE 19823*********</td></tr><tr><th>5</th><td>10066</td><td>APPLEBY AUTOMOTIVE ENGINEERING</td><td>10066</td><td>APPLEBY AUTOMOTIVE ENGINEERING</td></tr><tr><th>6</th><td>10089</td><td>BUDGET **USE 19823**</td><td>10089</td><td>BUDGET **USE 19823**</td></tr><tr><th>7</th><td>10097</td><td>BUDGET ***USE 19823********</td><td>10097</td><td>BUDGET ***USE 19823********</td></tr><tr><th>8</th><td>10098</td><td>BUDGET ****USE 19823*******</td><td>10098</td><td>BUDGET ****USE 19823*******</td></tr><tr><th>9</th><td>10101</td><td>EMPLOYERS &amp; MANUFACTURERS ASSOC</td><td>10101</td><td>EMPLOYERS &amp; MANUFACTURERS ASSOC</td></tr><tr><th>10</th><td>10103</td><td>AUCKLAND COPIERS***IN RECEIVERSHIP*</td><td>10103</td><td>AUCKLAND COPIERS***IN RECEIVERSHIP*</td></tr><tr><th>11</th><td>10104</td><td>HOLIDAY SHOPPE</td><td>10104</td><td>HOLIDAY SHOPPE</td></tr><tr><th>12</th><td>10106</td><td>AUCKLAND DRAPE CO LIMITED</td><td>10106</td><td>AUCKLAND DRAPE CO LIMITED</td></tr><tr><th>13</th><td>10114</td><td>INTERNATIONAL MANAGEMENT GROUP</td><td>10114</td><td>INTERNATIONAL MANAGEMENT GROUP</td></tr><tr><th>14</th><td>10116</td><td>STEPHEN SHEPPARD **CASH ACCT**</td><td>10116</td><td>STEPHEN SHEPPARD **CASH ACCT**</td></tr><tr><th>15</th><td>10123</td><td>RESIDENTIAL CONTRETE</td><td>10123</td><td>RESIDENTIAL CONTRETE</td></tr><tr><th>16</th><td>10126</td><td>PACIFIC OCEAN SHIPPING CHANDLERY</td><td>10126</td><td>PACIFIC OCEAN SHIPPING CHANDLERY</td></tr><tr><th>17</th><td>10131</td><td>SOUTHERN CROSS HOSPITALS LIMITED</td><td>10131</td><td>SOUTHERN CROSS HOSPITALS LIMITED</td></tr><tr><th>18</th><td>10161</td><td>MR QUINN - CASH A/C</td><td>10161</td><td>MR QUINN - CASH A/C</td></tr><tr><th>19</th><td>10172</td><td>SUPERPET PRODUCTS NZ LTD</td><td>10172</td><td>SUPERPET PRODUCTS NZ LTD</td></tr><tr><th>20</th><td>10190</td><td>BIRKENHEAD WOMENS BOWLING CLUB</td><td>10190</td><td>BIRKENHEAD WOMENS BOWLING CLUB</td></tr><tr><th>21</th><td>10193</td><td>MERRILL LYNCH (NZ) LTD **IN LQDTN**</td><td>10193</td><td>MERRILL LYNCH (NZ) LTD **IN LQDTN**</td></tr><tr><th>22</th><td>10194</td><td>PREMIER LANGUAGE LIMITED</td><td>10194</td><td>PREMIER LANGUAGE LIMITED</td></tr><tr><th>23</th><td>10199</td><td>MR CASEY**USE 10189**</td><td>10199</td><td>MR CASEY**USE 10189**</td></tr><tr><th>24</th><td>10207</td><td>HAYES KNIGHT LIMITED</td><td>10207</td><td>HAYES KNIGHT LIMITED</td></tr><tr><th>25</th><td>10208</td><td>BOXKRAFT LIMITED</td><td>10208</td><td>BOXKRAFT LIMITED</td></tr><tr><th>26</th><td>10209</td><td>DE LAUTOUR &amp; CO - CASH A/C</td><td>10209</td><td>DE LAUTOUR &amp; CO - CASH A/C</td></tr><tr><th>27</th><td>10212</td><td>DUCT INSTALLATION &amp; ***REF F10***</td><td>10212</td><td>DUCT INSTALLATION &amp; ***REF F10***</td></tr><tr><th>28</th><td>10217</td><td>AIR NZ ENGINEERING SERVICES</td><td>10217</td><td>AIR NZ ENGINEERING SERVICES</td></tr><tr><th>29</th><td>10222</td><td>POLYMER SYSTEMS (1999) LTD</td><td>10222</td><td>POLYMER SYSTEMS (1999) LTD</td></tr><tr><th>30</th><td>10226</td><td>WR BROWN</td><td>10226</td><td>WR BROWN</td></tr><tr><th>&vellip;</th><td>&vellip;</td><td>&vellip;</td><td>&vellip;</td><td>&vellip;</td></tr></tbody></table>"
      ],
      "text/latex": [
       "\\begin{tabular}{r|cccc}\n",
       "\t& Account & Customer & Parent\\_Account & Parent\\_Customer\\\\\n",
       "\t\\hline\n",
       "\t& String & String? & String? & String?\\\\\n",
       "\t\\hline\n",
       "\t1 & 10050 & NORMAN DISNEY \\& YOUNG & 10050 & NORMAN DISNEY \\& YOUNG \\\\\n",
       "\t2 & 10051 & NORWEST ADVERTISING LTD & 10051 & NORWEST ADVERTISING LTD \\\\\n",
       "\t3 & 10055 & JOANNE ANDERSON & 10055 & JOANNE ANDERSON \\\\\n",
       "\t4 & 10062 & BUDGET ****USE 19823********* & 10062 & BUDGET ****USE 19823********* \\\\\n",
       "\t5 & 10066 & APPLEBY AUTOMOTIVE ENGINEERING & 10066 & APPLEBY AUTOMOTIVE ENGINEERING \\\\\n",
       "\t6 & 10089 & BUDGET **USE 19823** & 10089 & BUDGET **USE 19823** \\\\\n",
       "\t7 & 10097 & BUDGET ***USE 19823******** & 10097 & BUDGET ***USE 19823******** \\\\\n",
       "\t8 & 10098 & BUDGET ****USE 19823******* & 10098 & BUDGET ****USE 19823******* \\\\\n",
       "\t9 & 10101 & EMPLOYERS \\& MANUFACTURERS ASSOC & 10101 & EMPLOYERS \\& MANUFACTURERS ASSOC \\\\\n",
       "\t10 & 10103 & AUCKLAND COPIERS***IN RECEIVERSHIP* & 10103 & AUCKLAND COPIERS***IN RECEIVERSHIP* \\\\\n",
       "\t11 & 10104 & HOLIDAY SHOPPE & 10104 & HOLIDAY SHOPPE \\\\\n",
       "\t12 & 10106 & AUCKLAND DRAPE CO LIMITED & 10106 & AUCKLAND DRAPE CO LIMITED \\\\\n",
       "\t13 & 10114 & INTERNATIONAL MANAGEMENT GROUP & 10114 & INTERNATIONAL MANAGEMENT GROUP \\\\\n",
       "\t14 & 10116 & STEPHEN SHEPPARD **CASH ACCT** & 10116 & STEPHEN SHEPPARD **CASH ACCT** \\\\\n",
       "\t15 & 10123 & RESIDENTIAL CONTRETE & 10123 & RESIDENTIAL CONTRETE \\\\\n",
       "\t16 & 10126 & PACIFIC OCEAN SHIPPING CHANDLERY & 10126 & PACIFIC OCEAN SHIPPING CHANDLERY \\\\\n",
       "\t17 & 10131 & SOUTHERN CROSS HOSPITALS LIMITED & 10131 & SOUTHERN CROSS HOSPITALS LIMITED \\\\\n",
       "\t18 & 10161 & MR QUINN - CASH A/C & 10161 & MR QUINN - CASH A/C \\\\\n",
       "\t19 & 10172 & SUPERPET PRODUCTS NZ LTD & 10172 & SUPERPET PRODUCTS NZ LTD \\\\\n",
       "\t20 & 10190 & BIRKENHEAD WOMENS BOWLING CLUB & 10190 & BIRKENHEAD WOMENS BOWLING CLUB \\\\\n",
       "\t21 & 10193 & MERRILL LYNCH (NZ) LTD **IN LQDTN** & 10193 & MERRILL LYNCH (NZ) LTD **IN LQDTN** \\\\\n",
       "\t22 & 10194 & PREMIER LANGUAGE LIMITED & 10194 & PREMIER LANGUAGE LIMITED \\\\\n",
       "\t23 & 10199 & MR CASEY**USE 10189** & 10199 & MR CASEY**USE 10189** \\\\\n",
       "\t24 & 10207 & HAYES KNIGHT LIMITED & 10207 & HAYES KNIGHT LIMITED \\\\\n",
       "\t25 & 10208 & BOXKRAFT LIMITED & 10208 & BOXKRAFT LIMITED \\\\\n",
       "\t26 & 10209 & DE LAUTOUR \\& CO - CASH A/C & 10209 & DE LAUTOUR \\& CO - CASH A/C \\\\\n",
       "\t27 & 10212 & DUCT INSTALLATION \\& ***REF F10*** & 10212 & DUCT INSTALLATION \\& ***REF F10*** \\\\\n",
       "\t28 & 10217 & AIR NZ ENGINEERING SERVICES & 10217 & AIR NZ ENGINEERING SERVICES \\\\\n",
       "\t29 & 10222 & POLYMER SYSTEMS (1999) LTD & 10222 & POLYMER SYSTEMS (1999) LTD \\\\\n",
       "\t30 & 10226 & WR BROWN & 10226 & WR BROWN \\\\\n",
       "\t$\\dots$ & $\\dots$ & $\\dots$ & $\\dots$ & $\\dots$ \\\\\n",
       "\\end{tabular}\n"
      ],
      "text/plain": [
       "31314×4 DataFrame. Omitted printing of 1 columns\n",
       "│ Row   │ Account │ Customer                            │ Parent_Account │\n",
       "│       │ \u001b[90mString\u001b[39m  │ \u001b[90mUnion{Missing, String}\u001b[39m              │ \u001b[90mString?\u001b[39m        │\n",
       "├───────┼─────────┼─────────────────────────────────────┼────────────────┤\n",
       "│ 1     │ 10050   │ NORMAN DISNEY & YOUNG               │ 10050          │\n",
       "│ 2     │ 10051   │ NORWEST ADVERTISING LTD             │ 10051          │\n",
       "│ 3     │ 10055   │ JOANNE ANDERSON                     │ 10055          │\n",
       "│ 4     │ 10062   │ BUDGET ****USE 19823*********       │ 10062          │\n",
       "│ 5     │ 10066   │ APPLEBY AUTOMOTIVE ENGINEERING      │ 10066          │\n",
       "│ 6     │ 10089   │ BUDGET **USE 19823**                │ 10089          │\n",
       "│ 7     │ 10097   │ BUDGET ***USE 19823********         │ 10097          │\n",
       "│ 8     │ 10098   │ BUDGET ****USE 19823*******         │ 10098          │\n",
       "│ 9     │ 10101   │ EMPLOYERS & MANUFACTURERS ASSOC     │ 10101          │\n",
       "│ 10    │ 10103   │ AUCKLAND COPIERS***IN RECEIVERSHIP* │ 10103          │\n",
       "⋮\n",
       "│ 31304 │ 33334   │ DESTINATION WAIRARAPA INC           │ 33334          │\n",
       "│ 31305 │ 33339   │ HOROWHENUA ADULT LITERACY SCHEME    │ 33339          │\n",
       "│ 31306 │ 33364   │ PARK ROAD PLAYCENTRE                │ 33364          │\n",
       "│ 31307 │ 33372   │ SOUTHERN RANGITIKEI VETERINARY SVS  │ 33372          │\n",
       "│ 31308 │ 33381   │ TOTARA COLLEGE OF ACCELERATED LEARN │ 33381          │\n",
       "│ 31309 │ 33386   │ MANAWATU COMMUNITY TRUST            │ 33386          │\n",
       "│ 31310 │ 33395   │ PEACOCK PROMOTIONS LTD              │ 33395          │\n",
       "│ 31311 │ 33404   │ TE WANANGA O RAUKAWA                │ 33404          │\n",
       "│ 31312 │ 33408   │ HUTT SCREEN PRINT                   │ 33408          │\n",
       "│ 31313 │ 33418   │ MINISTRY OF AGRICULTURE & FORESTRY  │ 33418          │\n",
       "│ 31314 │ 33419   │ BARHAM MANAGEMENT LTD               │ 33419          │"
      ]
     },
     "execution_count": 4,
     "metadata": {},
     "output_type": "execute_result"
    }
   ],
   "source": [
    "using DataFrames\n",
    "\n",
    "global df = DBInterface.execute(conn,query) |> DataFrame\n",
    "\n"
   ]
  },
  {
   "cell_type": "code",
   "execution_count": 6,
   "metadata": {},
   "outputs": [],
   "source": [
    "#import Pkg; Pkg.add(\"LeftChildRightSiblingTrees\")\n",
    "#using LeftChildRightSiblingTrees"
   ]
  },
  {
   "cell_type": "code",
   "execution_count": 5,
   "metadata": {},
   "outputs": [
    {
     "data": {
      "text/html": [
       "<table class=\"data-frame\"><thead><tr><th></th><th>Account</th><th>Customer</th><th>Parent_Account</th><th>Parent_Customer</th></tr><tr><th></th><th>String</th><th>String?</th><th>String?</th><th>String?</th></tr></thead><tbody><p>6 rows × 4 columns</p><tr><th>1</th><td>10050</td><td>NORMAN DISNEY &amp; YOUNG</td><td>10050</td><td>NORMAN DISNEY &amp; YOUNG</td></tr><tr><th>2</th><td>10051</td><td>NORWEST ADVERTISING LTD</td><td>10051</td><td>NORWEST ADVERTISING LTD</td></tr><tr><th>3</th><td>10055</td><td>JOANNE ANDERSON</td><td>10055</td><td>JOANNE ANDERSON</td></tr><tr><th>4</th><td>10062</td><td>BUDGET ****USE 19823*********</td><td>10062</td><td>BUDGET ****USE 19823*********</td></tr><tr><th>5</th><td>10066</td><td>APPLEBY AUTOMOTIVE ENGINEERING</td><td>10066</td><td>APPLEBY AUTOMOTIVE ENGINEERING</td></tr><tr><th>6</th><td>10089</td><td>BUDGET **USE 19823**</td><td>10089</td><td>BUDGET **USE 19823**</td></tr></tbody></table>"
      ],
      "text/latex": [
       "\\begin{tabular}{r|cccc}\n",
       "\t& Account & Customer & Parent\\_Account & Parent\\_Customer\\\\\n",
       "\t\\hline\n",
       "\t& String & String? & String? & String?\\\\\n",
       "\t\\hline\n",
       "\t1 & 10050 & NORMAN DISNEY \\& YOUNG & 10050 & NORMAN DISNEY \\& YOUNG \\\\\n",
       "\t2 & 10051 & NORWEST ADVERTISING LTD & 10051 & NORWEST ADVERTISING LTD \\\\\n",
       "\t3 & 10055 & JOANNE ANDERSON & 10055 & JOANNE ANDERSON \\\\\n",
       "\t4 & 10062 & BUDGET ****USE 19823********* & 10062 & BUDGET ****USE 19823********* \\\\\n",
       "\t5 & 10066 & APPLEBY AUTOMOTIVE ENGINEERING & 10066 & APPLEBY AUTOMOTIVE ENGINEERING \\\\\n",
       "\t6 & 10089 & BUDGET **USE 19823** & 10089 & BUDGET **USE 19823** \\\\\n",
       "\\end{tabular}\n"
      ],
      "text/plain": [
       "6×4 DataFrame. Omitted printing of 1 columns\n",
       "│ Row │ Account │ Customer                       │ Parent_Account │\n",
       "│     │ \u001b[90mString\u001b[39m  │ \u001b[90mUnion{Missing, String}\u001b[39m         │ \u001b[90mString?\u001b[39m        │\n",
       "├─────┼─────────┼────────────────────────────────┼────────────────┤\n",
       "│ 1   │ 10050   │ NORMAN DISNEY & YOUNG          │ 10050          │\n",
       "│ 2   │ 10051   │ NORWEST ADVERTISING LTD        │ 10051          │\n",
       "│ 3   │ 10055   │ JOANNE ANDERSON                │ 10055          │\n",
       "│ 4   │ 10062   │ BUDGET ****USE 19823*********  │ 10062          │\n",
       "│ 5   │ 10066   │ APPLEBY AUTOMOTIVE ENGINEERING │ 10066          │\n",
       "│ 6   │ 10089   │ BUDGET **USE 19823**           │ 10089          │"
      ]
     },
     "execution_count": 5,
     "metadata": {},
     "output_type": "execute_result"
    }
   ],
   "source": [
    "parents = df[df.Account .== df.Parent_Account,:];\n",
    "head(parents)"
   ]
  },
  {
   "cell_type": "code",
   "execution_count": 6,
   "metadata": {},
   "outputs": [
    {
     "data": {
      "text/html": [
       "<table class=\"data-frame\"><thead><tr><th></th><th>Account</th><th>Customer</th><th>Parent_Account</th><th>Parent_Customer</th></tr><tr><th></th><th>String</th><th>String?</th><th>String?</th><th>String?</th></tr></thead><tbody><p>6 rows × 4 columns</p><tr><th>1</th><td>10236</td><td>FORD MOTOR COMPANY OF NEW ZEALAND</td><td>71221</td><td>AUCKLAND AUTO COLLECTION LTD</td></tr><tr><th>2</th><td>10245</td><td>METLIFECARE WAIRARAPA LIMITED</td><td>10269</td><td>METLIFECARE REMUERA LTD</td></tr><tr><th>3</th><td>1999</td><td>WAKEFIELD METALS LIMITED</td><td>71726</td><td>MICO WAKEFIELD A DIVISIN OF CRANE</td></tr><tr><th>4</th><td>1967</td><td>UDC FINANCE LIMITED</td><td>82600</td><td>ANZ BANK LTD</td></tr><tr><th>5</th><td>19825</td><td>TETRA PAK (CPS) LIMITED</td><td>74604</td><td>TETRA PAK (NEW ZEALAND) LTD</td></tr><tr><th>6</th><td>25369</td><td>FOODSTUFFS WGTN COOP SOC LTD</td><td>62959</td><td>FOODSTUFFS (SI) LIMITED</td></tr></tbody></table>"
      ],
      "text/latex": [
       "\\begin{tabular}{r|cccc}\n",
       "\t& Account & Customer & Parent\\_Account & Parent\\_Customer\\\\\n",
       "\t\\hline\n",
       "\t& String & String? & String? & String?\\\\\n",
       "\t\\hline\n",
       "\t1 & 10236 & FORD MOTOR COMPANY OF NEW ZEALAND & 71221 & AUCKLAND AUTO COLLECTION LTD \\\\\n",
       "\t2 & 10245 & METLIFECARE WAIRARAPA LIMITED & 10269 & METLIFECARE REMUERA LTD \\\\\n",
       "\t3 & 1999 & WAKEFIELD METALS LIMITED & 71726 & MICO WAKEFIELD A DIVISIN OF CRANE \\\\\n",
       "\t4 & 1967 & UDC FINANCE LIMITED & 82600 & ANZ BANK LTD \\\\\n",
       "\t5 & 19825 & TETRA PAK (CPS) LIMITED & 74604 & TETRA PAK (NEW ZEALAND) LTD \\\\\n",
       "\t6 & 25369 & FOODSTUFFS WGTN COOP SOC LTD & 62959 & FOODSTUFFS (SI) LIMITED \\\\\n",
       "\\end{tabular}\n"
      ],
      "text/plain": [
       "6×4 DataFrame. Omitted printing of 1 columns\n",
       "│ Row │ Account │ Customer                          │ Parent_Account │\n",
       "│     │ \u001b[90mString\u001b[39m  │ \u001b[90mUnion{Missing, String}\u001b[39m            │ \u001b[90mString?\u001b[39m        │\n",
       "├─────┼─────────┼───────────────────────────────────┼────────────────┤\n",
       "│ 1   │ 10236   │ FORD MOTOR COMPANY OF NEW ZEALAND │ 71221          │\n",
       "│ 2   │ 10245   │ METLIFECARE WAIRARAPA LIMITED     │ 10269          │\n",
       "│ 3   │ 1999    │ WAKEFIELD METALS LIMITED          │ 71726          │\n",
       "│ 4   │ 1967    │ UDC FINANCE LIMITED               │ 82600          │\n",
       "│ 5   │ 19825   │ TETRA PAK (CPS) LIMITED           │ 74604          │\n",
       "│ 6   │ 25369   │ FOODSTUFFS WGTN COOP SOC LTD      │ 62959          │"
      ]
     },
     "execution_count": 6,
     "metadata": {},
     "output_type": "execute_result"
    }
   ],
   "source": [
    "children = df[df.Account .!= df.Parent_Account,:];\n",
    "head(children)"
   ]
  },
  {
   "cell_type": "code",
   "execution_count": 7,
   "metadata": {},
   "outputs": [],
   "source": [
    "\n",
    "mutable struct Account5\n",
    "    isParent::Bool\n",
    "    Account::String\n",
    "    Name::String\n",
    "    Children::Vector\n",
    "end"
   ]
  },
  {
   "cell_type": "code",
   "execution_count": 8,
   "metadata": {},
   "outputs": [
    {
     "data": {
      "text/plain": [
       "build_roots (generic function with 1 method)"
      ]
     },
     "execution_count": 8,
     "metadata": {},
     "output_type": "execute_result"
    }
   ],
   "source": [
    "function build_roots(df)\n",
    "    roots = []\n",
    "    parents = df[df.Account .== df.Parent_Account,:];\n",
    "    for parent in eachrow(parents)\n",
    "        root = Account5(true,parent.Account,parent.Customer,[])\n",
    "        push!(roots,root)\n",
    "        \n",
    "    end\n",
    "    return roots\n",
    "    \n",
    "    \n",
    "end"
   ]
  },
  {
   "cell_type": "code",
   "execution_count": 9,
   "metadata": {},
   "outputs": [
    {
     "data": {
      "text/plain": [
       "build_tree (generic function with 1 method)"
      ]
     },
     "execution_count": 9,
     "metadata": {},
     "output_type": "execute_result"
    }
   ],
   "source": [
    "\n",
    "\n",
    "function build_tree(df)\n",
    "    roots = build_roots(df)\n",
    "    \n",
    "    add_children(roots)\n",
    "        \n",
    "    \n",
    "end\n",
    "\n"
   ]
  },
  {
   "cell_type": "code",
   "execution_count": 10,
   "metadata": {},
   "outputs": [
    {
     "data": {
      "text/plain": [
       "30604-element Array{Any,1}:\n",
       " Account5(false, \"10050\", \"NORMAN DISNEY & YOUNG\", Any[])\n",
       " Account5(false, \"10051\", \"NORWEST ADVERTISING LTD\", Any[])\n",
       " Account5(false, \"10055\", \"JOANNE ANDERSON\", Any[])\n",
       " Account5(false, \"10062\", \"BUDGET ****USE 19823*********\", Any[])\n",
       " Account5(false, \"10066\", \"APPLEBY AUTOMOTIVE ENGINEERING\", Any[])\n",
       " Account5(false, \"10089\", \"BUDGET **USE 19823**\", Any[])\n",
       " Account5(false, \"10097\", \"BUDGET ***USE 19823********\", Any[])\n",
       " Account5(false, \"10098\", \"BUDGET ****USE 19823*******\", Any[])\n",
       " Account5(false, \"10101\", \"EMPLOYERS & MANUFACTURERS ASSOC\", Any[])\n",
       " Account5(false, \"10103\", \"AUCKLAND COPIERS***IN RECEIVERSHIP*\", Any[])\n",
       " Account5(false, \"10104\", \"HOLIDAY SHOPPE\", Any[])\n",
       " Account5(false, \"10106\", \"AUCKLAND DRAPE CO LIMITED\", Any[])\n",
       " Account5(false, \"10114\", \"INTERNATIONAL MANAGEMENT GROUP\", Any[])\n",
       " ⋮\n",
       " Account5(false, \"33320\", \"DW DENTICE LTD\", Any[])\n",
       " Account5(false, \"33334\", \"DESTINATION WAIRARAPA INC\", Any[])\n",
       " Account5(false, \"33339\", \"HOROWHENUA ADULT LITERACY SCHEME\", Any[])\n",
       " Account5(false, \"33364\", \"PARK ROAD PLAYCENTRE\", Any[])\n",
       " Account5(false, \"33372\", \"SOUTHERN RANGITIKEI VETERINARY SVS\", Any[])\n",
       " Account5(false, \"33381\", \"TOTARA COLLEGE OF ACCELERATED LEARN\", Any[])\n",
       " Account5(false, \"33386\", \"MANAWATU COMMUNITY TRUST\", Any[])\n",
       " Account5(false, \"33395\", \"PEACOCK PROMOTIONS LTD\", Any[])\n",
       " Account5(false, \"33404\", \"TE WANANGA O RAUKAWA\", Any[])\n",
       " Account5(false, \"33408\", \"HUTT SCREEN PRINT\", Any[])\n",
       " Account5(false, \"33418\", \"MINISTRY OF AGRICULTURE & FORESTRY\", Any[])\n",
       " Account5(false, \"33419\", \"BARHAM MANAGEMENT LTD\", Any[])"
      ]
     },
     "execution_count": 10,
     "metadata": {},
     "output_type": "execute_result"
    }
   ],
   "source": [
    "function add_children(roots)\n",
    "    tree = []\n",
    "    for root in roots\n",
    "            \n",
    "            #println(\"isparent\")\n",
    "            \n",
    "            childlist = []\n",
    "            for child in eachrow(children)\n",
    "                #@show child.Parent_Account,root.Account\n",
    "                if child.Parent_Account == root.Account\n",
    "                    #println(\"found one at $root\")\n",
    "                \n",
    "                    childAcc = Account5(true,child.Account,child.Customer,[])\n",
    "                    push!(childlist,childAcc)\n",
    "                    \n",
    "                    add_children(childlist)\n",
    "\n",
    "        \n",
    "                end\n",
    "                \n",
    "                \n",
    "            end             \n",
    "            root.Children = childlist\n",
    "            if root.Children != []\n",
    "                 #@show root\n",
    "            end\n",
    "            #@show root\n",
    "            if length(childlist)== 0\n",
    "                #println(\"notParent\")\n",
    "                root.isParent = false\n",
    "            \n",
    "            end    \n",
    "            #println(\"nextroot\")\n",
    "                     \n",
    "    push!(tree,root)\n",
    "    end\n",
    "       \n",
    "    return tree\n",
    "    \n",
    "end\n",
    "    \n",
    "\n",
    "\n",
    "T = build_tree(df)"
   ]
  },
  {
   "cell_type": "code",
   "execution_count": 11,
   "metadata": {},
   "outputs": [
    {
     "data": {
      "text/plain": [
       "displayInformation (generic function with 1 method)"
      ]
     },
     "execution_count": 11,
     "metadata": {},
     "output_type": "execute_result"
    }
   ],
   "source": [
    "function displayInformation(T)\n",
    "    \n",
    "    for parentAccount in T\n",
    "        numSubs = length(parentAccount.Children)\n",
    "        \n",
    "        println(\"Account: $(parentAccount.Name), No: $(parentAccount.Account)\")\n",
    "        println(\"Number of Sub Accounts: $numSubs\")\n",
    "        for subAccount in parentAccount.Children\n",
    "            println(\"Account: No$(subAccount.Name), No: $(subAccount.Account)\")\n",
    "            if length(subAccount.Children) > 0\n",
    "                println(\"depth >2\")\n",
    "            end\n",
    "            \n",
    "        end\n",
    "        println(\"\\n\\n\")\n",
    "            \n",
    "        \n",
    "        \n",
    "\n",
    "        \n",
    "    \n",
    "    \n",
    "        \n",
    "    end\n",
    "end\n",
    "    \n",
    "\n",
    "\n",
    "    "
   ]
  },
  {
   "cell_type": "code",
   "execution_count": 31,
   "metadata": {},
   "outputs": [
    {
     "data": {
      "text/plain": [
       "queryParents (generic function with 1 method)"
      ]
     },
     "execution_count": 31,
     "metadata": {},
     "output_type": "execute_result"
    }
   ],
   "source": [
    "\n",
    "## query the subaccount of each parent and then remove those sub accounts from our dataframe \n",
    "\n",
    "function queryParents(T)\n",
    "    io = open(\"C:/Users/Ajefferi/Documents/ChildCustomers.txt\", \"w\")\n",
    "    for parentAccount in T\n",
    "       childlist = parentAccount.Children\n",
    "       \n",
    "        \n",
    "        \n",
    "        if length(childlist) > 0 \n",
    "            accounts = removeFromDf(childlist) \n",
    "            [write(io,\"$account\\n\") for account in accounts]\n",
    "        end\n",
    "    \n",
    "        \n",
    "        \n",
    "        \n",
    "    end\n",
    "    \n",
    "    \n",
    "    \n",
    "    close(io)\n",
    "    \n",
    "    \n",
    "end"
   ]
  },
  {
   "cell_type": "code",
   "execution_count": null,
   "metadata": {},
   "outputs": [],
   "source": []
  },
  {
   "cell_type": "code",
   "execution_count": 32,
   "metadata": {},
   "outputs": [
    {
     "data": {
      "text/plain": [
       "removeFromDf (generic function with 1 method)"
      ]
     },
     "execution_count": 32,
     "metadata": {},
     "output_type": "execute_result"
    }
   ],
   "source": [
    "function removeFromDf(childs)\n",
    "    accounts = []\n",
    "   for subAccount in  childs\n",
    "            \n",
    "            if length(subAccount.Children) > 0\n",
    "                #println(\"depth >2: need to run again\")\n",
    "                \n",
    "                removeFromDf(subAccount.Children)\n",
    "            \n",
    "            else\n",
    "                name = subAccount.Name\n",
    "                account = subAccount.Account\n",
    "                push!(accounts,account)\n",
    "                ##write the account to a file \n",
    "                ##write the naame to a file\n",
    "            \n",
    "            \n",
    "            end\n",
    "            \n",
    "        end\n",
    "    \n",
    "    return accounts\n",
    "end"
   ]
  },
  {
   "cell_type": "code",
   "execution_count": 33,
   "metadata": {},
   "outputs": [],
   "source": [
    "newdf = deepcopy(df)\n",
    "\n",
    "\n",
    "newParents = newdf[newdf.Account .== newdf.Parent_Account,1:2];\n",
    "\n",
    "\n",
    "\n",
    "newParents[:numSubAccounts] = [length(t.Children) for t in T];"
   ]
  },
  {
   "cell_type": "code",
   "execution_count": 34,
   "metadata": {},
   "outputs": [],
   "source": [
    "newParents;"
   ]
  },
  {
   "cell_type": "code",
   "execution_count": 35,
   "metadata": {
    "scrolled": true
   },
   "outputs": [],
   "source": [
    "queryParents(T)"
   ]
  },
  {
   "cell_type": "code",
   "execution_count": null,
   "metadata": {},
   "outputs": [],
   "source": [
    "##write the names of all the parent accounts to a file\n",
    "\n"
   ]
  },
  {
   "cell_type": "code",
   "execution_count": null,
   "metadata": {},
   "outputs": [],
   "source": []
  },
  {
   "cell_type": "code",
   "execution_count": null,
   "metadata": {},
   "outputs": [],
   "source": []
  },
  {
   "cell_type": "code",
   "execution_count": null,
   "metadata": {},
   "outputs": [],
   "source": []
  },
  {
   "cell_type": "code",
   "execution_count": null,
   "metadata": {},
   "outputs": [],
   "source": []
  },
  {
   "cell_type": "code",
   "execution_count": null,
   "metadata": {},
   "outputs": [],
   "source": []
  },
  {
   "cell_type": "code",
   "execution_count": null,
   "metadata": {},
   "outputs": [],
   "source": []
  },
  {
   "cell_type": "code",
   "execution_count": null,
   "metadata": {},
   "outputs": [],
   "source": []
  },
  {
   "cell_type": "code",
   "execution_count": null,
   "metadata": {},
   "outputs": [],
   "source": []
  },
  {
   "cell_type": "code",
   "execution_count": null,
   "metadata": {},
   "outputs": [],
   "source": []
  },
  {
   "cell_type": "code",
   "execution_count": null,
   "metadata": {},
   "outputs": [],
   "source": []
  },
  {
   "cell_type": "code",
   "execution_count": null,
   "metadata": {},
   "outputs": [],
   "source": []
  },
  {
   "cell_type": "code",
   "execution_count": null,
   "metadata": {},
   "outputs": [],
   "source": []
  },
  {
   "cell_type": "code",
   "execution_count": null,
   "metadata": {},
   "outputs": [],
   "source": []
  },
  {
   "cell_type": "code",
   "execution_count": null,
   "metadata": {},
   "outputs": [],
   "source": []
  },
  {
   "cell_type": "code",
   "execution_count": null,
   "metadata": {},
   "outputs": [],
   "source": []
  },
  {
   "cell_type": "code",
   "execution_count": null,
   "metadata": {},
   "outputs": [],
   "source": []
  },
  {
   "cell_type": "code",
   "execution_count": null,
   "metadata": {},
   "outputs": [],
   "source": []
  },
  {
   "cell_type": "code",
   "execution_count": null,
   "metadata": {},
   "outputs": [],
   "source": []
  },
  {
   "cell_type": "code",
   "execution_count": null,
   "metadata": {},
   "outputs": [],
   "source": []
  },
  {
   "cell_type": "code",
   "execution_count": null,
   "metadata": {},
   "outputs": [],
   "source": []
  },
  {
   "cell_type": "code",
   "execution_count": null,
   "metadata": {},
   "outputs": [],
   "source": []
  },
  {
   "cell_type": "code",
   "execution_count": null,
   "metadata": {},
   "outputs": [],
   "source": []
  },
  {
   "cell_type": "code",
   "execution_count": null,
   "metadata": {},
   "outputs": [],
   "source": []
  },
  {
   "cell_type": "code",
   "execution_count": null,
   "metadata": {},
   "outputs": [],
   "source": [
    "\n"
   ]
  }
 ],
 "metadata": {
  "@webio": {
   "lastCommId": null,
   "lastKernelId": null
  },
  "kernelspec": {
   "display_name": "Julia 1.5.1",
   "language": "julia",
   "name": "julia-1.5"
  },
  "language_info": {
   "file_extension": ".jl",
   "mimetype": "application/julia",
   "name": "julia",
   "version": "1.5.1"
  }
 },
 "nbformat": 4,
 "nbformat_minor": 4
}
